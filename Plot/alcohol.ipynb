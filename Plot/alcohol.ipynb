{
 "cells": [
  {
   "cell_type": "code",
   "execution_count": 1,
   "id": "initial_id",
   "metadata": {
    "collapsed": true,
    "ExecuteTime": {
     "end_time": "2024-03-11T11:55:47.615868Z",
     "start_time": "2024-03-11T11:55:47.006392Z"
    }
   },
   "outputs": [],
   "source": [
    "import numpy as np\n",
    "from matplotlib import pyplot as plt\n",
    "\n",
    "from Alcohol.load import load_alcohol_table, aggregate_pivot_joint, Keys\n",
    "from Processing.time_series import TimeSeries\n",
    "from Processing.helper import skip_demean_quantity, shift_price"
   ]
  },
  {
   "cell_type": "code",
   "outputs": [],
   "source": [
    "data_pd = load_alcohol_table().read(28_000_000)\n",
    "price, quantity = aggregate_pivot_joint(data_pd, Keys.ITEM, Keys.PRICE, Keys.QUANTITY)"
   ],
   "metadata": {
    "collapsed": false,
    "is_executing": true,
    "ExecuteTime": {
     "start_time": "2024-03-11T11:55:47.617811Z"
    }
   },
   "id": "6c467f39e6f50f0f",
   "execution_count": null
  },
  {
   "cell_type": "code",
   "outputs": [],
   "source": [],
   "metadata": {
    "collapsed": false,
    "is_executing": true
   },
   "id": "ed9371ed74370c05",
   "execution_count": null
  },
  {
   "cell_type": "code",
   "outputs": [],
   "source": [
    "ts = TimeSeries(price, quantity)\n",
    "longest_ts = ts.get_nth_longest(0)\n",
    "top_5 = ts.get_n_longest(20)"
   ],
   "metadata": {
    "collapsed": false,
    "is_executing": true
   },
   "id": "a23306e3edb9cf7d",
   "execution_count": null
  },
  {
   "cell_type": "code",
   "outputs": [],
   "source": [
    "for element in top_5:\n",
    "    print(element[1].astype(int))"
   ],
   "metadata": {
    "collapsed": false,
    "is_executing": true
   },
   "id": "cf3c27b34d5fe5b4",
   "execution_count": null
  },
  {
   "cell_type": "code",
   "outputs": [],
   "source": [
    "for element in top_5:\n",
    "    print(np.corrcoef(x=element.price, y=element.quantity)[0, 1])\n",
    "    print(np.corrcoef(x=element.price, y=skip_demean_quantity(element, period=12).quantity)[0, 1])\n",
    "    print(\"---------\")\n"
   ],
   "metadata": {
    "collapsed": false,
    "is_executing": true
   },
   "id": "3d380e9a0eb35dcc",
   "execution_count": null
  },
  {
   "cell_type": "markdown",
   "source": [],
   "metadata": {
    "collapsed": false
   },
   "id": "f35da7180dcd8b98"
  },
  {
   "cell_type": "code",
   "outputs": [],
   "source": [
    "for element in top_5:\n",
    "    plt.figure()\n",
    "    plt.scatter(element[0], skip_demean_all(element[1], period=12))\n",
    "plt.show()"
   ],
   "metadata": {
    "collapsed": false,
    "is_executing": true
   },
   "id": "563871a92954c49e",
   "execution_count": null
  },
  {
   "cell_type": "code",
   "outputs": [],
   "source": [
    "\n",
    "def draw_scatter_graph(price, quantity, label=None):\n",
    "    if label is None:\n",
    "        label = \"\"\n",
    "    fig, ax1 = plt.subplots()\n",
    "    ax1.set_title(label)\n",
    "    ax1.set_xlabel(\"month #\")\n",
    "    \n",
    "    ax1.plot(price, marker='o', linestyle='none')\n",
    "    ax2 = ax1.twinx()\n",
    "    ax2.plot(quantity, marker='o', linestyle='none', color='orange')\n",
    "    \n",
    "    ax1.set_ylabel(\"price [$]\")\n",
    "    ax2.set_ylabel(\"quantity\")\n",
    "    print(np.corrcoef(x=price, y=quantity)[0, 1])\n",
    "    plt.show()\n",
    "        \n",
    "                \n",
    "demean = True\n",
    "for i, (price, quantity) in enumerate(top_5):\n",
    "    quantity = skip_demean_all(quantity, 12) if demean else quantity\n",
    "    draw_scatter_graph(price, quantity, label=f\"Price/Quantity {i}\")        \n",
    "    "
   ],
   "metadata": {
    "collapsed": false,
    "is_executing": true
   },
   "id": "9dbc5feb0c2a5ccd",
   "execution_count": null
  },
  {
   "cell_type": "code",
   "outputs": [],
   "source": [],
   "metadata": {
    "collapsed": false,
    "is_executing": true
   },
   "id": "ecff741a38338d1a",
   "execution_count": null
  }
 ],
 "metadata": {
  "kernelspec": {
   "display_name": "Python 3",
   "language": "python",
   "name": "python3"
  },
  "language_info": {
   "codemirror_mode": {
    "name": "ipython",
    "version": 2
   },
   "file_extension": ".py",
   "mimetype": "text/x-python",
   "name": "python",
   "nbconvert_exporter": "python",
   "pygments_lexer": "ipython2",
   "version": "2.7.6"
  }
 },
 "nbformat": 4,
 "nbformat_minor": 5
}
