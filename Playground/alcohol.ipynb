{
 "cells": [
  {
   "cell_type": "code",
   "execution_count": null,
   "id": "initial_id",
   "metadata": {
    "collapsed": true
   },
   "outputs": [],
   "source": [
    "import numpy as np\n",
    "from matplotlib import pyplot as plt\n",
    "\n",
    "from Alcohol.caching import load\n",
    "from Processing import TimeSeries, PriceQuantity as PQ\n"
   ]
  },
  {
   "cell_type": "code",
   "outputs": [],
   "source": [
    "ts = load(dir_path=\"../Alcohol/Caches\", identifier=\"0\")\n",
    "longest_ts = ts.get_nth_longest(0)\n",
    "top_n = [ts.get_nth_longest(i) for i in range(10)]\n",
    "ts.price.shape"
   ],
   "metadata": {
    "collapsed": false
   },
   "id": "ed9371ed74370c05",
   "execution_count": null
  },
  {
   "cell_type": "code",
   "outputs": [],
   "source": [
    "for element in top_n:\n",
    "    print(\"normal: \", np.corrcoef(x=element.price, y=element.quantity)[0, 1])\n",
    "    print(\"demeaned: \", np.corrcoef(x=element.price, y=PQ.skip_demean_quantity(element, period=12).quantity)[0, 1])\n",
    "    shifted = PQ.shift_price(element, 1)\n",
    "    print(\"shifted: \", np.corrcoef(x=shifted.price, y=PQ.skip_demean_quantity(shifted, period=12).quantity)[0, 1])\n",
    "    print(\"---------\")\n"
   ],
   "metadata": {
    "collapsed": false
   },
   "id": "3d380e9a0eb35dcc",
   "execution_count": null
  },
  {
   "cell_type": "code",
   "outputs": [],
   "source": [
    "for element in top_n:\n",
    "    demeaned = PQ.skip_demean_quantity(element, period=12)\n",
    "    demeaned.draw_scatter_graph(plt.subplots()[1], economic_axis=True)\n",
    "plt.show()"
   ],
   "metadata": {
    "collapsed": false
   },
   "id": "563871a92954c49e",
   "execution_count": null
  },
  {
   "cell_type": "code",
   "outputs": [],
   "source": [
    "   \n",
    "demean = True\n",
    "shift = False\n",
    "for i, pq in enumerate(top_n):\n",
    "    if demean:\n",
    "        pq = PQ.skip_demean_quantity(pq, 12)\n",
    "    if shift:\n",
    "        pq = PQ.shift_price(pq, -1)\n",
    "    print(f'{i} ', pq.get_correlation())\n",
    "    pq.draw_time_axis_scatter_graph(plt.subplots()[1], dates=True)\n",
    "    plt.show()  \n",
    "5\n",
    "        "
   ],
   "metadata": {
    "collapsed": false
   },
   "id": "9dbc5feb0c2a5ccd",
   "execution_count": null
  },
  {
   "cell_type": "code",
   "outputs": [],
   "source": [
    "from Processing import ModelPQ\n",
    "\n",
    "pq = top_n[7]\n",
    "pq = PQ.bin_price_absolute(pq, 0.25)[:]\n",
    "print(pq.price)\n",
    "#print(pq.quantity)\n",
    "#print(find_change_range(pq))\n",
    "# (\n",
    "#     last_change_slope(pq, min_count=8),\n",
    "#     last_change_with_time_slope(pq, min_count=15),\n",
    "#     linear_model_slope(pq),\n",
    "#     linear_model_with_time_slope(pq)\n",
    "#  )\n",
    "\n",
    "model = ModelPQ(pq, min_count=10)\n",
    "model.run_models()\n",
    "model.results\n"
   ],
   "metadata": {
    "collapsed": false
   },
   "id": "35e9eaaf3c24766c",
   "execution_count": null
  },
  {
   "cell_type": "code",
   "outputs": [],
   "source": [],
   "metadata": {
    "collapsed": false
   },
   "id": "59aa6e923d83727a",
   "execution_count": null
  }
 ],
 "metadata": {
  "kernelspec": {
   "display_name": "Python 3",
   "language": "python",
   "name": "python3"
  },
  "language_info": {
   "codemirror_mode": {
    "name": "ipython",
    "version": 2
   },
   "file_extension": ".py",
   "mimetype": "text/x-python",
   "name": "python",
   "nbconvert_exporter": "python",
   "pygments_lexer": "ipython2",
   "version": "2.7.6"
  }
 },
 "nbformat": 4,
 "nbformat_minor": 5
}
