{
 "cells": [
  {
   "cell_type": "code",
   "outputs": [],
   "source": [
    "import warnings\n",
    "\n",
    "import numpy as np\n",
    "import numba\n",
    "\n",
    "with warnings.catch_warnings():\n",
    "    warnings.filterwarnings(\"ignore\", category=DeprecationWarning)\n",
    "    import pandas as pd\n",
    "    "
   ],
   "metadata": {
    "collapsed": false,
    "ExecuteTime": {
     "end_time": "2024-03-04T19:02:29.190278Z",
     "start_time": "2024-03-04T19:02:28.984911Z"
    }
   },
   "id": "73fe57ef8cd422e0",
   "execution_count": 2
  },
  {
   "cell_type": "code",
   "outputs": [],
   "source": [
    "from Alcohol.load import Keys, aggregate_pivot_joint, consecutive_pythonic, load_alcohol_table\n"
   ],
   "metadata": {
    "collapsed": false,
    "ExecuteTime": {
     "end_time": "2024-03-04T19:02:29.196767Z",
     "start_time": "2024-03-04T19:02:29.191182Z"
    }
   },
   "id": "fa291e8d458d5146",
   "execution_count": 3
  },
  {
   "cell_type": "code",
   "outputs": [
    {
     "data": {
      "text/plain": "(Timestamp('2024-01-31 00:00:00'), Timestamp('2012-01-03 00:00:00'))"
     },
     "execution_count": 4,
     "metadata": {},
     "output_type": "execute_result"
    }
   ],
   "source": [
    "df_reader = load_alcohol_table()\n",
    "df = df_reader.read(5_000_000)\n",
    "df[Keys.DATE].max(), df[Keys.DATE].min()"
   ],
   "metadata": {
    "collapsed": false,
    "ExecuteTime": {
     "end_time": "2024-03-04T19:02:43.356380Z",
     "start_time": "2024-03-04T19:02:29.195274Z"
    }
   },
   "id": "2fae5cb59f3b7e20",
   "execution_count": 4
  },
  {
   "cell_type": "code",
   "outputs": [
    {
     "data": {
      "text/plain": "(array([[nan, nan, nan, ..., nan, nan, nan],\n        [nan, nan, nan, ..., nan, nan, nan],\n        [nan, nan, nan, ..., nan, nan, nan],\n        ...,\n        [nan, nan, nan, ..., nan, nan, nan],\n        [nan, nan, nan, ..., nan, nan, nan],\n        [nan, nan, nan, ..., nan, nan, nan]]),\n array([[0., 0., 0., ..., 0., 0., 0.],\n        [0., 0., 0., ..., 0., 0., 0.],\n        [0., 0., 0., ..., 0., 0., 0.],\n        ...,\n        [0., 0., 0., ..., 0., 0., 0.],\n        [0., 0., 0., ..., 0., 0., 0.],\n        [0., 0., 0., ..., 0., 0., 0.]]),\n (145, 7526),\n 101046)"
     },
     "execution_count": 5,
     "metadata": {},
     "output_type": "execute_result"
    }
   ],
   "source": [
    "price_item, quantity_item = aggregate_pivot_joint(df, Keys.ITEM, Keys.PRICE, Keys.QUANTITY)\n",
    "quantity_item = np.nan_to_num(quantity_item) \n",
    "price_item, quantity_item, price_item.shape, np.count_nonzero(~np.isnan(price_item))"
   ],
   "metadata": {
    "collapsed": false,
    "ExecuteTime": {
     "end_time": "2024-03-04T19:02:44.968478Z",
     "start_time": "2024-03-04T19:02:43.355215Z"
    }
   },
   "id": "b7429c5a8dc782c4",
   "execution_count": 5
  },
  {
   "cell_type": "code",
   "outputs": [],
   "source": [
    "# data between Jan 2012 and Jan 2024 including, so 145 months (should work with > 10 mil input rows)\n",
    "assert price_item.shape[0] == 145"
   ],
   "metadata": {
    "collapsed": false,
    "ExecuteTime": {
     "end_time": "2024-03-04T19:02:44.971569Z",
     "start_time": "2024-03-04T19:02:44.967900Z"
    }
   },
   "id": "94ab4783ba072207",
   "execution_count": 6
  },
  {
   "cell_type": "code",
   "outputs": [
    {
     "data": {
      "text/plain": "True"
     },
     "execution_count": 7,
     "metadata": {},
     "output_type": "execute_result"
    }
   ],
   "source": [
    "filter_price_changed = np.nanmax(price_item, axis=1) != np.nanmin(price_item, axis=1)\n",
    "\n",
    "\n",
    "min(filter_price_changed)"
   ],
   "metadata": {
    "collapsed": false,
    "ExecuteTime": {
     "end_time": "2024-03-04T19:02:44.974447Z",
     "start_time": "2024-03-04T19:02:44.971625Z"
    }
   },
   "id": "4e59252b3900b28d",
   "execution_count": 7
  },
  {
   "cell_type": "code",
   "outputs": [
    {
     "data": {
      "text/plain": "array([1.81, 0.  , 2.3 , 1.68, 1.46, 1.65, 1.46, 1.65, 1.81, 1.65, 1.79,\n       1.69, 1.69, 1.7 , 1.7 , 1.46, 2.34, 2.6 , 1.69, 1.69, 1.69, 2.6 ,\n       1.69, 1.7 , 1.7 , 2.28, 1.69, 1.69, 1.76, 1.7 , 1.69, 1.76, 1.7 ,\n       1.7 , 1.7 , 1.7 , 1.7 , 1.56, 1.46, 1.7 , 1.7 , 1.58, 1.34, 1.7 ,\n       1.34, 1.34, 1.34, 1.56, 1.34, 1.34, 1.7 , 1.7 , 1.7 , 1.34, 1.34,\n       1.34, 1.46, 1.35, 1.7 , 1.7 , 1.46, 1.35, 1.7 , 1.46, 1.34, 1.35,\n       1.7 , 1.7 , 1.7 , 1.35, 1.35, 1.34, 1.88, 1.46, 1.8 , 1.88, 1.35,\n       1.35, 1.35, 1.7 , 1.86, 1.34, 1.97, 1.7 , 1.35, 2.34, 1.35, 1.35,\n       1.7 , 1.35, 1.35, 1.34, 1.34, 1.34, 1.34, 1.34, 1.34, 1.97, 1.34,\n       1.97, 1.46, 1.73, 1.7 , 2.7 , 1.7 , 1.35, 1.34, 1.35, 1.35, 2.7 ,\n       2.34, 2.9 , 1.34, 1.34, 1.35, 1.34, 1.35, 1.7 , 1.34, 1.35, 1.35,\n       2.7 , 1.34, 1.34, 1.34, 1.34, 1.34, 1.34, 1.35, 0.99, 1.34, 1.34,\n       1.34, 1.34, 1.34, 1.34, 1.43, 1.43, 1.43, 1.43, 1.43, 1.43, 1.43,\n       1.43, 1.43])"
     },
     "execution_count": 8,
     "metadata": {},
     "output_type": "execute_result"
    }
   ],
   "source": [
    "np.nanmin(price_item, axis=1)\n"
   ],
   "metadata": {
    "collapsed": false,
    "ExecuteTime": {
     "end_time": "2024-03-04T19:02:44.979401Z",
     "start_time": "2024-03-04T19:02:44.975181Z"
    }
   },
   "id": "6f45b99089c9c1a5",
   "execution_count": 8
  },
  {
   "cell_type": "code",
   "outputs": [
    {
     "data": {
      "text/plain": "array([  187.08,    84.  ,   120.68,    84.  ,   193.49,    46.49,\n          60.  ,    63.74,    71.24,   193.49,    53.13,    55.12,\n          83.18,    64.79,    56.99,    55.12,    63.75,    58.38,\n         149.92,   195.  ,    48.  ,   195.  ,    53.99,    67.49,\n          42.75,    58.61,    89.99,   149.92,    53.13,    74.99,\n          59.22,    87.  ,    92.61,   195.  ,    53.13,    84.  ,\n          59.99,    48.75,    59.24,    64.49,   195.  ,    98.99,\n         225.57,    98.99,    92.61,   148.5 ,   195.  ,    55.25,\n          52.49,    53.13,    53.13,    97.49,    98.99,    87.  ,\n          82.5 ,    75.  ,   195.  ,    68.99,   114.5 ,   217.88,\n          68.99,    60.  ,    58.41,   281.25,    99.74,   149.93,\n          49.5 ,    63.99,   149.99,    48.75,   149.91,   181.83,\n          57.  ,    99.99,    51.72,    47.99,    47.99,   181.83,\n          45.  ,    41.76,   148.5 ,    53.13,    97.49,    75.  ,\n          52.47,    41.61,    53.13,    52.5 ,    53.13,    48.72,\n          75.74,   195.  ,   824.99,  2623.68,   824.99,  2594.22,\n         824.99,    50.22,    37.5 ,   149.87,    62.82,    62.82,\n         149.91,    89.48,    82.5 ,    75.  ,   172.49,    47.99,\n        2775.  ,    50.25,   195.  ,    87.  ,    87.  ,   104.99,\n         149.99,    50.  ,   247.5 ,    82.49,   149.99,   195.  ,\n         108.  ,   195.  ,    89.96,  3298.34,   127.49,   550.01,\n         162.74,  3375.  ,   195.  ,  3448.26,  3448.26, 27654.  ,\n        3448.26,  3000.  ,  3448.26,  1125.  ,  3448.26,   375.  ,\n        3448.26,  3448.26,  3448.26,  3000.  ,  3448.26, 37483.53,\n        3448.26])"
     },
     "execution_count": 9,
     "metadata": {},
     "output_type": "execute_result"
    }
   ],
   "source": [
    "np.nanmax(price_item, axis=1)\n"
   ],
   "metadata": {
    "collapsed": false,
    "ExecuteTime": {
     "end_time": "2024-03-04T19:02:44.982241Z",
     "start_time": "2024-03-04T19:02:44.978944Z"
    }
   },
   "id": "29de9b8dbe45f1f",
   "execution_count": 9
  },
  {
   "cell_type": "code",
   "outputs": [
    {
     "data": {
      "text/plain": "array([[0, 0, 0, ..., 0, 0, 0],\n       [0, 0, 0, ..., 0, 0, 0],\n       [0, 0, 0, ..., 0, 0, 0],\n       ...,\n       [0, 0, 0, ..., 0, 0, 0],\n       [0, 0, 0, ..., 0, 0, 0],\n       [0, 0, 0, ..., 0, 0, 0]], dtype=uint64)"
     },
     "execution_count": 10,
     "metadata": {},
     "output_type": "execute_result"
    }
   ],
   "source": [
    "consecutive = consecutive_pythonic(price_item)\n",
    "consecutive[:, 0:20]"
   ],
   "metadata": {
    "collapsed": false,
    "ExecuteTime": {
     "end_time": "2024-03-04T19:02:45.248852Z",
     "start_time": "2024-03-04T19:02:44.982815Z"
    }
   },
   "id": "ffaf7f708dc1985b",
   "execution_count": 10
  },
  {
   "cell_type": "code",
   "outputs": [
    {
     "name": "stdout",
     "output_type": "stream",
     "text": [
      "(145, 7526)\n",
      "uint64\n",
      "144\n",
      "(7526,)\n",
      "uint64\n",
      "[[   0   91   92    2]\n",
      " [   1   59   59    1]\n",
      " [   2   92   96    5]\n",
      " ...\n",
      " [7523  139  139    1]\n",
      " [7524  123  123    1]\n",
      " [7525  138  139    2]]\n",
      "[3762 5609 5607 ... 1784 1783 1785]\n"
     ]
    },
    {
     "data": {
      "text/plain": "array([[3777,   50,   79,   30],\n       [ 496,  115,  144,   30],\n       [1708,    0,   31,   32],\n       [1781,  112,  144,   33],\n       [ 356,  109,  144,   36],\n       [ 384,  109,  144,   36],\n       [1748,    0,   46,   47],\n       [1784,    0,   47,   48],\n       [1783,    0,   47,   48],\n       [1785,    0,   81,   82]], dtype=uint64)"
     },
     "execution_count": 11,
     "metadata": {},
     "output_type": "execute_result"
    }
   ],
   "source": [
    "shape = consecutive.shape\n",
    "print(shape)\n",
    "print(consecutive.dtype)\n",
    "longest_in_column_indices: np.ndarray = consecutive.argmax(axis=0).astype(np.uint)\n",
    "print(np.amax(longest_in_column_indices))\n",
    "print(longest_in_column_indices.shape)\n",
    "longest_in_column = consecutive[longest_in_column_indices, np.arange(0, longest_in_column_indices.shape[0], dtype=np.uint)]\n",
    "print(longest_in_column.dtype)\n",
    "sort_by = np.argsort(longest_in_column)\n",
    "consecutive_with_first_last_index = np.concatenate(\n",
    "    (\n",
    "        np.expand_dims(np.arange(0, longest_in_column_indices.shape[0], dtype=np.uint), axis=1),\n",
    "        np.expand_dims((longest_in_column_indices - longest_in_column + 1).astype(np.uint), axis=1),\n",
    "        np.expand_dims(longest_in_column_indices, axis=1),\n",
    "        np.expand_dims(longest_in_column, axis=1)\n",
    "     )\n",
    "    , axis=1)\n",
    "print(consecutive_with_first_last_index)\n",
    "print(sort_by)\n",
    "longest_indices_sorted = consecutive_with_first_last_index[sort_by, :]\n",
    "longest_indices_sorted[-10:]\n",
    "\n",
    "#np.sort(consecutive[np.arange(consecutive.shape[0]), longest_in_column_indices])[-9:] "
   ],
   "metadata": {
    "collapsed": false,
    "ExecuteTime": {
     "end_time": "2024-03-04T19:02:45.255111Z",
     "start_time": "2024-03-04T19:02:45.251774Z"
    }
   },
   "id": "4e33bebe526194e7",
   "execution_count": 11
  },
  {
   "cell_type": "code",
   "outputs": [
    {
     "data": {
      "text/plain": "(144,)"
     },
     "execution_count": 27,
     "metadata": {},
     "output_type": "execute_result"
    }
   ],
   "source": [
    "from Processing.time_series import TimeSeries\n",
    "\n",
    "ts = TimeSeries(price_item, quantity_item)\n",
    "\n",
    "ts.get_nth_longest(2).shape\n"
   ],
   "metadata": {
    "collapsed": false,
    "ExecuteTime": {
     "end_time": "2024-03-04T21:46:27.263075Z",
     "start_time": "2024-03-04T21:46:27.256456Z"
    }
   },
   "id": "8144e1600da351be",
   "execution_count": 27
  },
  {
   "cell_type": "code",
   "outputs": [],
   "source": [],
   "metadata": {
    "collapsed": false,
    "ExecuteTime": {
     "end_time": "2024-03-04T19:02:45.373248Z",
     "start_time": "2024-03-04T19:02:45.371618Z"
    }
   },
   "id": "ab478a621e96e0fa",
   "execution_count": 12
  }
 ],
 "metadata": {
  "kernelspec": {
   "display_name": "Python 3",
   "language": "python",
   "name": "python3"
  },
  "language_info": {
   "codemirror_mode": {
    "name": "ipython",
    "version": 2
   },
   "file_extension": ".py",
   "mimetype": "text/x-python",
   "name": "python",
   "nbconvert_exporter": "python",
   "pygments_lexer": "ipython2",
   "version": "2.7.6"
  }
 },
 "nbformat": 4,
 "nbformat_minor": 5
}
